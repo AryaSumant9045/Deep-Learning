{
 "cells": [
  {
   "cell_type": "code",
   "execution_count": 1,
   "id": "d3956d14-e357-4752-a150-81e8737e7f30",
   "metadata": {},
   "outputs": [
    {
     "ename": "SyntaxError",
     "evalue": "unterminated string literal (detected at line 9) (1430719959.py, line 9)",
     "output_type": "error",
     "traceback": [
      "  \u001b[36mCell\u001b[39m\u001b[36m \u001b[39m\u001b[32mIn[1]\u001b[39m\u001b[32m, line 9\u001b[39m\n\u001b[31m    \u001b[39m\u001b[31m\"\"\"\"\u001b[39m\n       ^\n\u001b[31mSyntaxError\u001b[39m\u001b[31m:\u001b[39m unterminated string literal (detected at line 9)\n"
     ]
    }
   ],
   "source": [
    "\"\"\"conda create -n bonus_env python=3.10 -y\n",
    "conda activate bonus_env\n",
    "conda install -y numpy=1.26.4 scipy=1.11.3 scikit-learn=1.3.2 pandas\n",
    "conda install -y pytorch cpuonly -c pytorch\n",
    "\"\"\"\n",
    "# if you want to create environment in another drive like F then use\n",
    "\"\"\"conda create --prefix F:\\myenv python=3.11\n",
    "    conda activate F:\\myenv\n",
    "    \"\"\"\"\n",
    "#Phir Jupyter ke liye bind karo:\n",
    "#python -m ipykernel install --user --name bonus_env --display-name \"Python (bonus_env)\"  \n"
   ]
  },
  {
   "cell_type": "code",
   "execution_count": null,
   "id": "bd0cdcb8-3590-4444-a65e-7291da9612e6",
   "metadata": {},
   "outputs": [],
   "source": []
  }
 ],
 "metadata": {
  "kernelspec": {
   "display_name": "Python (bonus_env)",
   "language": "python",
   "name": "bonus_env"
  },
  "language_info": {
   "codemirror_mode": {
    "name": "ipython",
    "version": 3
   },
   "file_extension": ".py",
   "mimetype": "text/x-python",
   "name": "python",
   "nbconvert_exporter": "python",
   "pygments_lexer": "ipython3",
   "version": "3.11.13"
  }
 },
 "nbformat": 4,
 "nbformat_minor": 5
}
