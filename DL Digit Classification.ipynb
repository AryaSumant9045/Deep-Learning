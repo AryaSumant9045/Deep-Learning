{
 "cells": [
  {
   "cell_type": "code",
   "execution_count": 117,
   "id": "035181c1-698b-4ded-8912-2eabb270e6af",
   "metadata": {},
   "outputs": [],
   "source": [
    "import torch\n",
    "import torch.nn as nn\n",
    "import torch.optim as optim\n",
    "import torchvision.transforms as transforms\n",
    "from torchvision import datasets\n",
    "from torch.utils.data import DataLoader\n",
    "from torchvision.transforms import ToTensor\n",
    "import matplotlib.pyplot as plt"
   ]
  },
  {
   "cell_type": "code",
   "execution_count": 125,
   "id": "49b5c9c5-9ba7-4001-a136-bc6c2d4c77cf",
   "metadata": {},
   "outputs": [],
   "source": [
    "#Transform pipeline\n",
    "transform = transforms.Compose([\n",
    "    transforms.ToTensor(), # 0-255 => (0,1]\n",
    "    transforms.Normalize((0.5,),(0.5,)) # [0,1) =>[-1, 1]\n",
    "])\n",
    "\n",
    "# using pipeline\n",
    "train_dataset = datasets.MNIST(\n",
    "                root = \"data\",\n",
    "                download = True,\n",
    "                train = True,\n",
    "                transform = transform\n",
    ")\n",
    "test_dataset = datasets.MNIST(\n",
    "                root = \"data\",\n",
    "                download = True,\n",
    "                train = False,\n",
    "                transform = transform\n",
    ")"
   ]
  },
  {
   "cell_type": "code",
   "execution_count": 127,
   "id": "9993b415-83e5-480f-b0dc-e4e0e031df77",
   "metadata": {},
   "outputs": [
    {
     "data": {
      "text/plain": [
       "60000"
      ]
     },
     "execution_count": 127,
     "metadata": {},
     "output_type": "execute_result"
    }
   ],
   "source": [
    "len(train_dataset)"
   ]
  },
  {
   "cell_type": "code",
   "execution_count": 129,
   "id": "ac6c95ba-bd19-4d5f-a33b-c34243c02832",
   "metadata": {},
   "outputs": [
    {
     "data": {
      "text/plain": [
       "10000"
      ]
     },
     "execution_count": 129,
     "metadata": {},
     "output_type": "execute_result"
    }
   ],
   "source": [
    "len(test_dataset)"
   ]
  },
  {
   "cell_type": "code",
   "execution_count": 131,
   "id": "0edf0a4f-0f9d-4732-a5c5-08d4a7423289",
   "metadata": {},
   "outputs": [],
   "source": [
    "train_loader = DataLoader(train_dataset, batch_size=64, shuffle = True)\n",
    "test_loader = DataLoader(test_dataset, batch_size=64, shuffle = True)\n",
    "\n",
    "data_iter = iter(train_loader)\n",
    "images , labels = next(data_iter)"
   ]
  },
  {
   "cell_type": "code",
   "execution_count": 133,
   "id": "749f77b2-c1cd-4ad3-88e8-ab5d7baef3aa",
   "metadata": {},
   "outputs": [
    {
     "data": {
      "text/plain": [
       "torch.Size([64, 1, 28, 28])"
      ]
     },
     "execution_count": 133,
     "metadata": {},
     "output_type": "execute_result"
    }
   ],
   "source": [
    "image.shape"
   ]
  },
  {
   "cell_type": "code",
   "execution_count": 137,
   "id": "dfc4ebee-9b1f-4188-8257-daaf1bd49b0f",
   "metadata": {},
   "outputs": [
    {
     "data": {
      "image/png": "[encoded data removed]",
      "text/plain": [
       "<Figure size 300x300 with 1 Axes>"
      ]
     },
     "metadata": {},
     "output_type": "display_data"
    }
   ],
   "source": [
    "#\n",
    "plt.figure(figsize=(3,3))\n",
    "plt.imshow(images[0].squeeze(), cmap = \"gray\")\n",
    "plt.show()"
   ]
  },
  {
   "cell_type": "code",
   "execution_count": null,
   "id": "f6c8dfef-804b-417c-8a5a-9927195c711a",
   "metadata": {},
   "outputs": [],
   "source": []
  }
 ],
 "metadata": {
  "kernelspec": {
   "display_name": "Python [conda env:myenv]",
   "language": "python",
   "name": "conda-env-myenv-py"
  },
  "language_info": {
   "codemirror_mode": {
    "name": "ipython",
    "version": 3
   },
   "file_extension": ".py",
   "mimetype": "text/x-python",
   "name": "python",
   "nbconvert_exporter": "python",
   "pygments_lexer": "ipython3",
   "version": "3.11.13"
  }
 },
 "nbformat": 4,
 "nbformat_minor": 5
}
