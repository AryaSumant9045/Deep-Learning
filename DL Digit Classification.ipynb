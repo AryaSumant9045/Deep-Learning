{
 "cells": [
  {
   "cell_type": "code",
   "execution_count": 161,
   "id": "035181c1-698b-4ded-8912-2eabb270e6af",
   "metadata": {},
   "outputs": [],
   "source": [
    "import torch\n",
    "import torch.nn as nn\n",
    "import torch.optim as optim\n",
    "import torchvision.transforms as transforms\n",
    "from torchvision import datasets\n",
    "from torch.utils.data import DataLoader\n",
    "from torchvision.transforms import ToTensor\n",
    "import matplotlib.pyplot as plt"
   ]
  },
  {
   "cell_type": "code",
   "execution_count": 162,
   "id": "49b5c9c5-9ba7-4001-a136-bc6c2d4c77cf",
   "metadata": {},
   "outputs": [],
   "source": [
    "#Transform pipeline\n",
    "transform = transforms.Compose([\n",
    "    transforms.ToTensor(), # 0-255 => (0,1]\n",
    "    transforms.Normalize((0.5,),(0.5,)) # [0,1) =>[-1, 1]\n",
    "])\n",
    "\n",
    "# using pipeline\n",
    "train_dataset = datasets.MNIST(\n",
    "                root = \"data\",\n",
    "                download = True,\n",
    "                train = True,\n",
    "                transform = transform\n",
    ")\n",
    "test_dataset = datasets.MNIST(\n",
    "                root = \"data\",\n",
    "                download = True,\n",
    "                train = False,\n",
    "                transform = transform\n",
    ")"
   ]
  },
  {
   "cell_type": "code",
   "execution_count": 163,
   "id": "9993b415-83e5-480f-b0dc-e4e0e031df77",
   "metadata": {},
   "outputs": [
    {
     "data": {
      "text/plain": [
       "60000"
      ]
     },
     "execution_count": 163,
     "metadata": {},
     "output_type": "execute_result"
    }
   ],
   "source": [
    "len(train_dataset)"
   ]
  },
  {
   "cell_type": "code",
   "execution_count": 164,
   "id": "ac6c95ba-bd19-4d5f-a33b-c34243c02832",
   "metadata": {},
   "outputs": [
    {
     "data": {
      "text/plain": [
       "10000"
      ]
     },
     "execution_count": 164,
     "metadata": {},
     "output_type": "execute_result"
    }
   ],
   "source": [
    "len(test_dataset)"
   ]
  },
  {
   "cell_type": "code",
   "execution_count": 165,
   "id": "0edf0a4f-0f9d-4732-a5c5-08d4a7423289",
   "metadata": {},
   "outputs": [],
   "source": [
    "train_loader = DataLoader(train_dataset, batch_size=64, shuffle = True)\n",
    "test_loader = DataLoader(test_dataset, batch_size=64, shuffle = True)\n",
    "\n",
    "data_iter = iter(train_loader)\n",
    "images , labels = next(data_iter)"
   ]
  },
  {
   "cell_type": "code",
   "execution_count": 166,
   "id": "749f77b2-c1cd-4ad3-88e8-ab5d7baef3aa",
   "metadata": {},
   "outputs": [
    {
     "data": {
      "text/plain": [
       "torch.Size([64, 1, 28, 28])"
      ]
     },
     "execution_count": 166,
     "metadata": {},
     "output_type": "execute_result"
    }
   ],
   "source": [
    "image.shape"
   ]
  },
  {
   "cell_type": "code",
   "execution_count": 167,
   "id": "dfc4ebee-9b1f-4188-8257-daaf1bd49b0f",
   "metadata": {},
   "outputs": [
    {
     "data": {
      "image/png": "[encoded data removed]",
      "text/plain": [
       "<Figure size 300x300 with 1 Axes>"
      ]
     },
     "metadata": {},
     "output_type": "display_data"
    }
   ],
   "source": [
    "# plating image\n",
    "plt.figure(figsize=(3,3))\n",
    "plt.imshow(images[0].squeeze(), cmap = \"gray\")\n",
    "plt.show()"
   ]
  },
  {
   "cell_type": "code",
   "execution_count": 168,
   "id": "f6c8dfef-804b-417c-8a5a-9927195c711a",
   "metadata": {},
   "outputs": [
    {
     "data": {
      "text/plain": [
       "tensor(6)"
      ]
     },
     "execution_count": 168,
     "metadata": {},
     "output_type": "execute_result"
    }
   ],
   "source": [
    "# showing plotted image\n",
    "labels[0]"
   ]
  },
  {
   "cell_type": "code",
   "execution_count": 173,
   "id": "8e2fae56-aa3b-492e-97aa-bcc863514cdc",
   "metadata": {},
   "outputs": [],
   "source": [
    "# Definging neural network class \n",
    "class DigitsClassifier(nn.Module):\n",
    "    def __init__(self):\n",
    "        super().__init__()\n",
    "        self.network = nn.Sequential(\n",
    "            nn.Flatten(),  # ekk long line mai flat the matrix\n",
    "            nn.Linear(784, 128),  # input layer is 784, and innner layer are 128\n",
    "            nn.ReLU(),\n",
    "            nn.Linear(128, 64),\n",
    "            nn.ReLU(),\n",
    "            nn.Linear(64, 10),\n",
    "        )\n",
    "    def forward(self, x):\n",
    "        return self.network(x)"
   ]
  },
  {
   "cell_type": "code",
   "execution_count": 175,
   "id": "a5bcc1d9-b189-4bce-a3fb-568c64e03a99",
   "metadata": {},
   "outputs": [],
   "source": [
    "model = DigitsClassifier()\n",
    "optimizer = optim.Adam(model.parameters(), lr = 0.001)\n",
    "criterion = nn.CrossEntropyLoss()"
   ]
  },
  {
   "cell_type": "code",
   "execution_count": 185,
   "id": "db90c5bc-71b4-4b60-8d8b-61e764a8a312",
   "metadata": {},
   "outputs": [
    {
     "name": "stdout",
     "output_type": "stream",
     "text": [
      "Epoch [1/5], loss:  0.08\n",
      "Epoch [2/5], loss:  0.07\n",
      "Epoch [3/5], loss:  0.06\n",
      "Epoch [4/5], loss:  0.06\n",
      "Epoch [5/5], loss:  0.05\n"
     ]
    }
   ],
   "source": [
    "epochs = 5\n",
    "\n",
    "for epoch in range(epochs):\n",
    "    running_loss = 0.0\n",
    "    for images, labels in train_loader:\n",
    "        # 1. Forword pass\n",
    "        outputs = model(images)\n",
    "        loss = criterion(outputs, labels)\n",
    "\n",
    "        running_loss += loss.item()  # loss is a tensor and .item() with loss give you first value of item\n",
    "        # 2. Backword pass\n",
    "        optimizer.zero_grad()\n",
    "        loss.backward()\n",
    "\n",
    "        \n",
    "        # 3. weight update\n",
    "        optimizer.step() # w_new = w_old - n* d(loss) / dw\n",
    "\n",
    "    print(f\"Epoch [{epoch+1}/{epochs}], loss: {running_loss / len(train_loader): .2f}\")"
   ]
  },
  {
   "cell_type": "code",
   "execution_count": null,
   "id": "fbaa4ec0-5767-46b7-a085-f4c66799a3c0",
   "metadata": {},
   "outputs": [
    {
     "name": "stdout",
     "output_type": "stream",
     "text": [
      "tensor([5, 9, 1, 8, 6, 3, 0, 0, 3, 5, 4, 8, 0, 3, 7, 2, 2, 6, 4, 5, 7, 1, 6, 4,\n",
      "        4, 2, 7, 6, 4, 9, 1, 8, 7, 0, 7, 6, 4, 9, 5, 9, 9, 8, 8, 1, 8, 1, 1, 4,\n",
      "        7, 5, 7, 9, 9, 4, 8, 4, 3, 1, 8, 1, 3, 5, 8, 8])\n",
      "tensor([5, 9, 1, 8, 6, 3, 0, 0, 3, 5, 4, 8, 0, 3, 7, 2, 2, 6, 4, 5, 7, 1, 6, 4,\n",
      "        9, 2, 7, 6, 4, 9, 1, 8, 7, 0, 7, 6, 4, 9, 5, 9, 9, 8, 8, 1, 8, 1, 1, 4,\n",
      "        7, 5, 7, 9, 9, 4, 8, 4, 3, 1, 8, 1, 3, 5, 8, 8])\n",
      "Accuracy on test set is :  98.44 % \n"
     ]
    }
   ],
   "source": [
    "# training the model\n",
    "model.eval() # # Switch to evaluation mode\n",
    "\n",
    "total = 0\n",
    "correct = 0\n",
    "with torch.no_grad():\n",
    "    for images , labels in test_loader:\n",
    "        outputs = model(images) # forword pass\n",
    "        _, predicted = torch.max(outputs.data, 1)  # Har image ke liye sabse bada score wala class index nikalta hai.\n",
    "        print(predicted)\n",
    "        print(labels)\n",
    "        correct += (predicted == labels).sum().item()\n",
    "        total += labels.size(0)\n",
    "        #print((predicted == labels).sum().item())\n",
    "        #print(outputs[0])\n",
    "        #print(labels[0])\n",
    "        break\n",
    "\n",
    "print(f'Accuracy on test set is : {100 * correct/total: .2f} % ')"
   ]
  },
  {
   "cell_type": "code",
   "execution_count": 208,
   "id": "c564829b-0afa-4f3c-9af8-106adc8b8fab",
   "metadata": {},
   "outputs": [
    {
     "data": {
      "text/plain": [
       "(64, 63)"
      ]
     },
     "execution_count": 208,
     "metadata": {},
     "output_type": "execute_result"
    }
   ],
   "source": [
    "total , correct"
   ]
  },
  {
   "cell_type": "code",
   "execution_count": null,
   "id": "db323c16-5c24-40a2-9b9e-2dbc2627dc74",
   "metadata": {},
   "outputs": [],
   "source": []
  }
 ],
 "metadata": {
  "kernelspec": {
   "display_name": "Python [conda env:myenv]",
   "language": "python",
   "name": "conda-env-myenv-py"
  },
  "language_info": {
   "codemirror_mode": {
    "name": "ipython",
    "version": 3
   },
   "file_extension": ".py",
   "mimetype": "text/x-python",
   "name": "python",
   "nbconvert_exporter": "python",
   "pygments_lexer": "ipython3",
   "version": "3.11.13"
  }
 },
 "nbformat": 4,
 "nbformat_minor": 5
}
