{
 "cells": [
  {
   "cell_type": "code",
   "execution_count": 1,
   "id": "245521ba-ef2f-40b3-8724-a112a06b270b",
   "metadata": {},
   "outputs": [],
   "source": [
    "import torch\n",
    "import torch.nn as nn\n",
    "import torch.optim as optim\n",
    "from torch.utils.data import DataLoader, Subset\n",
    "from torchvision import datasets, transforms\n",
    "import numpy as np\n",
    "from sklearn.metrics import accuracy_score\n",
    "from matplotlib import pyplot as plt\n",
    "\n",
    "# Device configuration\n",
    "device = torch.device(\"cuda\" if torch.cuda.is_available() else \"cpu\")"
   ]
  },
  {
   "cell_type": "code",
   "execution_count": 3,
   "id": "350ff9b6-e286-4f33-94a8-cb3f10b32fe3",
   "metadata": {},
   "outputs": [],
   "source": [
    "# Load and normalize the MNIST dataset\n",
    "transform = transforms.Compose([transforms.ToTensor(), transforms.Normalize((0.5,), (0.5,))])\n",
    "\n",
    "full_train_dataset = datasets.MNIST(root=\"data\", train=True, download=True, transform=transform)\n",
    "full_test_dataset = datasets.MNIST(root=\"data\", train=False, download=True, transform=transform)\n",
    "\n",
    "\n",
    "train_subset = Subset(full_train_dataset, torch.arange(5000))\n",
    "test_subset = Subset(full_test_dataset, torch.arange(1000))\n",
    "\n",
    "train_loader = DataLoader(train_subset, batch_size=60, shuffle=True)\n",
    "test_loader = DataLoader(test_subset, batch_size=60, shuffle=True)"
   ]
  },
  {
   "cell_type": "markdown",
   "id": "a419f19a-cefa-4d06-862d-52d9080f4d85",
   "metadata": {},
   "source": [
    "<h3> Training Without Batch Normalization <h3/>"
   ]
  },
  {
   "cell_type": "code",
   "execution_count": 6,
   "id": "61dcdd4c-1c56-4a11-abcc-04f6d6baac84",
   "metadata": {},
   "outputs": [],
   "source": [
    "# Define the model\n",
    "class MNISTClassifier(nn.Module):\n",
    "    def __init__(self):\n",
    "        super().__init__()\n",
    "        self.network = nn.Sequential(\n",
    "            nn.Flatten(),\n",
    "            nn.Linear(28*28, 128),  \n",
    "            nn.ReLU(),\n",
    "            nn.Linear(128, 64), \n",
    "            nn.ReLU(),\n",
    "            nn.Linear(64, 10)\n",
    "        )\n",
    "\n",
    "    def forward(self, x):\n",
    "        return self.network(x)"
   ]
  },
  {
   "cell_type": "code",
   "execution_count": 8,
   "id": "c51325db-9f12-4dfa-b6ae-19e3a4e49106",
   "metadata": {},
   "outputs": [],
   "source": [
    "def train_model(model, train_loader, test_loader, optimizer, criterion, epochs=5):\n",
    "    \n",
    "    val_accuracies = []\n",
    "    \n",
    "    for epoch in range(epochs):\n",
    "        # Training \n",
    "        model.train()\n",
    "        for batch, (images, labels) in enumerate(train_loader):\n",
    "            images = images.to(device)\n",
    "            labels = labels.to(device)\n",
    "            optimizer.zero_grad()          # Zero the gradients\n",
    "            outputs = model(images)        # Forward pass\n",
    "            loss = criterion(outputs, labels) # Compute loss\n",
    "            loss.backward()                # Backpropagate\n",
    "            optimizer.step()               # Update weights\n",
    "            \n",
    "            if batch%100 == 0:\n",
    "                print(f\"Epoch {epoch}, Batch: {batch}, Train Loss: {loss.item():0.2f}\")\n",
    "            \n",
    "        \n",
    "        # Evaluation\n",
    "        model.eval()\n",
    "        y_pred, y_true = [], []\n",
    "        with torch.no_grad():\n",
    "            for inputs, labels in test_loader:\n",
    "                inputs, labels = inputs.to(device), labels.to(device)\n",
    "                outputs = model(inputs)\n",
    "                loss = criterion(outputs, labels)\n",
    "                _, predicted = torch.max(outputs, 1)\n",
    "                y_pred.extend(predicted.cpu().numpy())\n",
    "                y_true.extend(labels.cpu().numpy())\n",
    "        val_accuracy = accuracy_score(y_true, y_pred)\n",
    "        val_accuracies.append(val_accuracy)\n",
    "        \n",
    "    return val_accuracies"
   ]
  },
  {
   "cell_type": "code",
   "execution_count": 10,
   "id": "d4a5e2d8-d404-4426-a0d6-9240c09e2844",
   "metadata": {},
   "outputs": [
    {
     "name": "stdout",
     "output_type": "stream",
     "text": [
      "Epoch 0, Batch: 0, Train Loss: 2.31\n",
      "Epoch 1, Batch: 0, Train Loss: 0.53\n",
      "Epoch 2, Batch: 0, Train Loss: 0.29\n",
      "Epoch 3, Batch: 0, Train Loss: 0.36\n",
      "Epoch 4, Batch: 0, Train Loss: 0.16\n",
      "Epoch 5, Batch: 0, Train Loss: 0.12\n",
      "Epoch 6, Batch: 0, Train Loss: 0.13\n",
      "Epoch 7, Batch: 0, Train Loss: 0.20\n",
      "Epoch 8, Batch: 0, Train Loss: 0.17\n",
      "Epoch 9, Batch: 0, Train Loss: 0.07\n"
     ]
    }
   ],
   "source": [
    "# Instantiate the model, define loss function and optimizer\n",
    "model = MNISTClassifier().to(device)\n",
    "criterion = nn.CrossEntropyLoss()\n",
    "optimizer = optim.Adam(model.parameters(), lr=0.001)\n",
    "\n",
    "val_accuracies_no_bn = train_model(model, train_loader, test_loader, optimizer, criterion, 10)"
   ]
  },
  {
   "cell_type": "code",
   "execution_count": 12,
   "id": "ca732e34-086f-44db-ae65-85153c1c41de",
   "metadata": {},
   "outputs": [
    {
     "name": "stdout",
     "output_type": "stream",
     "text": [
      "[0.801, 0.856, 0.863, 0.884, 0.89, 0.89, 0.895, 0.897, 0.888, 0.893]\n"
     ]
    }
   ],
   "source": [
    "print(val_accuracies_no_bn)"
   ]
  },
  {
   "cell_type": "markdown",
   "id": "22f61270-7c1e-4afd-8e43-31adce9ebae2",
   "metadata": {},
   "source": [
    "<h3> With Batch Normalization <h3/>"
   ]
  },
  {
   "cell_type": "code",
   "execution_count": 15,
   "id": "38c0655c-9fe2-4db6-b111-d6547cc5eced",
   "metadata": {},
   "outputs": [],
   "source": [
    "# Define the model\n",
    "class MNISTClassifierWithBN(nn.Module):\n",
    "    def __init__(self):\n",
    "        super().__init__()\n",
    "        self.network = nn.Sequential(\n",
    "            nn.Flatten(),\n",
    "            nn.Linear(28*28, 128),  \n",
    "            nn.BatchNorm1d(128),\n",
    "            nn.ReLU(),\n",
    "            nn.Linear(128, 64), \n",
    "            nn.BatchNorm1d(64),\n",
    "            nn.ReLU(),\n",
    "            nn.Linear(64, 10)\n",
    "        )\n",
    "\n",
    "    def forward(self, x):\n",
    "        return self.network(x)"
   ]
  },
  {
   "cell_type": "code",
   "execution_count": 17,
   "id": "dfee2285-4788-46e7-88d6-ff7a417a99dd",
   "metadata": {},
   "outputs": [
    {
     "name": "stdout",
     "output_type": "stream",
     "text": [
      "Epoch 0, Batch: 0, Train Loss: 2.47\n",
      "Epoch 1, Batch: 0, Train Loss: 0.54\n",
      "Epoch 2, Batch: 0, Train Loss: 0.36\n",
      "Epoch 3, Batch: 0, Train Loss: 0.12\n",
      "Epoch 4, Batch: 0, Train Loss: 0.07\n",
      "Epoch 5, Batch: 0, Train Loss: 0.09\n",
      "Epoch 6, Batch: 0, Train Loss: 0.05\n",
      "Epoch 7, Batch: 0, Train Loss: 0.02\n",
      "Epoch 8, Batch: 0, Train Loss: 0.02\n",
      "Epoch 9, Batch: 0, Train Loss: 0.02\n"
     ]
    }
   ],
   "source": [
    "# Instantiate the model, define loss function and optimizer\n",
    "model_with_bn = MNISTClassifierWithBN().to(device)\n",
    "criterion_with_bn = nn.CrossEntropyLoss()\n",
    "optimizer_with_bn = optim.Adam(model_with_bn.parameters(), lr=0.001)\n",
    "\n",
    "val_accuracies_with_bn = train_model(model_with_bn, train_loader, test_loader, optimizer_with_bn, criterion_with_bn, 10)"
   ]
  },
  {
   "cell_type": "code",
   "execution_count": 19,
   "id": "6c0343cd-716c-477d-a81e-70210b976825",
   "metadata": {},
   "outputs": [
    {
     "data": {
      "text/plain": [
       "[0.887, 0.902, 0.921, 0.923, 0.929, 0.93, 0.931, 0.923, 0.905, 0.938]"
      ]
     },
     "execution_count": 19,
     "metadata": {},
     "output_type": "execute_result"
    }
   ],
   "source": [
    "val_accuracies_with_bn"
   ]
  },
  {
   "cell_type": "code",
   "execution_count": 21,
   "id": "509653f4-137e-46fb-a102-93dd5b3d930b",
   "metadata": {},
   "outputs": [
    {
     "data": {
      "image/png": "[encoded data removed]",
      "text/plain": [
       "<Figure size 640x480 with 1 Axes>"
      ]
     },
     "metadata": {},
     "output_type": "display_data"
    }
   ],
   "source": [
    "plt.plot(val_accuracies_no_bn, label=\"Validation Accuracy (No Batch)\")\n",
    "plt.plot(val_accuracies_with_bn, label=\"Validation Accuracy (With Batch)\")\n",
    "plt.legend()\n",
    "plt.show()"
   ]
  },
  {
   "cell_type": "code",
   "execution_count": null,
   "id": "60f8524e-37f6-4298-bd59-e792dee6a281",
   "metadata": {},
   "outputs": [],
   "source": []
  }
 ],
 "metadata": {
  "kernelspec": {
   "display_name": "Python [conda env:myenv]",
   "language": "python",
   "name": "conda-env-myenv-py"
  },
  "language_info": {
   "codemirror_mode": {
    "name": "ipython",
    "version": 3
   },
   "file_extension": ".py",
   "mimetype": "text/x-python",
   "name": "python",
   "nbconvert_exporter": "python",
   "pygments_lexer": "ipython3",
   "version": "3.11.13"
  }
 },
 "nbformat": 4,
 "nbformat_minor": 5
}
