{
 "cells": [
  {
   "cell_type": "code",
   "execution_count": 1,
   "id": "d11340f2-fa71-45f4-8373-7cd7b9b4b5a4",
   "metadata": {},
   "outputs": [],
   "source": [
    "import torch\n"
   ]
  },
  {
   "cell_type": "code",
   "execution_count": 3,
   "id": "aff7383a-b2c5-4f4a-ab9a-91efb75838e6",
   "metadata": {},
   "outputs": [
    {
     "data": {
      "text/plain": [
       "False"
      ]
     },
     "execution_count": 3,
     "metadata": {},
     "output_type": "execute_result"
    }
   ],
   "source": [
    "torch.cuda.is_available()"
   ]
  },
  {
   "cell_type": "code",
   "execution_count": 7,
   "id": "b50429de-3a1d-443e-8da0-4bd687a00c83",
   "metadata": {},
   "outputs": [
    {
     "data": {
      "text/plain": [
       "tensor(9)"
      ]
     },
     "execution_count": 7,
     "metadata": {},
     "output_type": "execute_result"
    }
   ],
   "source": [
    "torch.tensor(9)"
   ]
  },
  {
   "cell_type": "code",
   "execution_count": 9,
   "id": "ea0af51f-1b5a-4bdd-bcf4-f776904d9076",
   "metadata": {},
   "outputs": [],
   "source": [
    "revenue = torch.tensor([34,34,24,53,24])"
   ]
  },
  {
   "cell_type": "code",
   "execution_count": 11,
   "id": "d7f834f0-6a84-499c-b69b-80fe6d746035",
   "metadata": {},
   "outputs": [
    {
     "data": {
      "text/plain": [
       "tensor(53)"
      ]
     },
     "execution_count": 11,
     "metadata": {},
     "output_type": "execute_result"
    }
   ],
   "source": [
    "revenue[3]"
   ]
  },
  {
   "cell_type": "code",
   "execution_count": 15,
   "id": "414a5fdf-02b4-4aac-8598-8338a4e0d9da",
   "metadata": {},
   "outputs": [
    {
     "data": {
      "text/plain": [
       "device(type='cpu')"
      ]
     },
     "execution_count": 15,
     "metadata": {},
     "output_type": "execute_result"
    }
   ],
   "source": [
    "if torch.cuda.is_available():\n",
    "    device = torch.device('cuda')\n",
    "else:\n",
    "    device = torch.device('cpu')\n",
    "device\n",
    "\n",
    "    "
   ]
  },
  {
   "cell_type": "code",
   "execution_count": 18,
   "id": "295b45a4-06a5-4881-83df-52b750ed2890",
   "metadata": {},
   "outputs": [
    {
     "data": {
      "text/plain": [
       "torch.Size([100000, 3])"
      ]
     },
     "execution_count": 18,
     "metadata": {},
     "output_type": "execute_result"
    }
   ],
   "source": [
    "customer_data = torch.rand(1_00_000,3,device= device)\n",
    "customer_data.shape"
   ]
  },
  {
   "cell_type": "code",
   "execution_count": 23,
   "id": "14e746f8-2353-4f89-8ba2-65fca1ea7219",
   "metadata": {},
   "outputs": [
    {
     "data": {
      "text/plain": [
       "tensor([[0.1018, 0.4907, 0.5360],\n",
       "        [0.0824, 0.5849, 0.9942],\n",
       "        [0.0054, 0.0496, 0.6912],\n",
       "        [0.9606, 0.7171, 0.2881],\n",
       "        [0.4562, 0.3846, 0.0462]])"
      ]
     },
     "execution_count": 23,
     "metadata": {},
     "output_type": "execute_result"
    }
   ],
   "source": [
    "customer_data[:5]"
   ]
  },
  {
   "cell_type": "code",
   "execution_count": 25,
   "id": "5f89952d-a068-412e-b8d2-9c82fc7ca0d1",
   "metadata": {},
   "outputs": [
    {
     "data": {
      "text/plain": [
       "tensor([0.4907, 0.5849, 0.0496,  ..., 0.2347, 0.6646, 0.0505])"
      ]
     },
     "execution_count": 25,
     "metadata": {},
     "output_type": "execute_result"
    }
   ],
   "source": [
    "customer_data[:,1]\n"
   ]
  },
  {
   "cell_type": "code",
   "execution_count": 27,
   "id": "251f0448-b7ed-4cce-9ffc-7502431a8ac5",
   "metadata": {},
   "outputs": [
    {
     "data": {
      "text/plain": [
       "tensor([[0.0824, 0.5849, 0.9942],\n",
       "        [0.9606, 0.7171, 0.2881],\n",
       "        [0.5120, 0.9466, 0.7350],\n",
       "        ...,\n",
       "        [0.4267, 0.6327, 0.2759],\n",
       "        [0.1828, 0.7024, 0.2280],\n",
       "        [0.3689, 0.6646, 0.4211]])"
      ]
     },
     "execution_count": 27,
     "metadata": {},
     "output_type": "execute_result"
    }
   ],
   "source": [
    "high_spending_customer= customer_data[customer_data[:,1]>0.5]\n",
    "high_spending_customer"
   ]
  },
  {
   "cell_type": "code",
   "execution_count": 29,
   "id": "f6571b34-15fa-499d-a891-062fdc95bc55",
   "metadata": {},
   "outputs": [
    {
     "data": {
      "text/plain": [
       "torch.Size([49999, 3])"
      ]
     },
     "execution_count": 29,
     "metadata": {},
     "output_type": "execute_result"
    }
   ],
   "source": [
    "high_spending_customer.shape"
   ]
  },
  {
   "cell_type": "code",
   "execution_count": 31,
   "id": "e3096259-0dda-4885-b514-cd47de87e838",
   "metadata": {},
   "outputs": [
    {
     "ename": "RuntimeError",
     "evalue": "Found no NVIDIA driver on your system. Please check that you have an NVIDIA GPU and installed a driver from http://www.nvidia.com/Download/index.aspx",
     "output_type": "error",
     "traceback": [
      "\u001b[31m---------------------------------------------------------------------------\u001b[39m",
      "\u001b[31mRuntimeError\u001b[39m                              Traceback (most recent call last)",
      "\u001b[36mCell\u001b[39m\u001b[36m \u001b[39m\u001b[32mIn[31]\u001b[39m\u001b[32m, line 1\u001b[39m\n\u001b[32m----> \u001b[39m\u001b[32m1\u001b[39m \u001b[43mhigh_spending_customer\u001b[49m\u001b[43m.\u001b[49m\u001b[43mto\u001b[49m\u001b[43m(\u001b[49m\u001b[33;43m\"\u001b[39;49m\u001b[33;43mcuda\u001b[39;49m\u001b[33;43m\"\u001b[39;49m\u001b[43m)\u001b[49m\n",
      "\u001b[36mFile \u001b[39m\u001b[32mF:\\Users\\MY PC\\anaconda3\\Lib\\site-packages\\torch\\cuda\\__init__.py:372\u001b[39m, in \u001b[36m_lazy_init\u001b[39m\u001b[34m()\u001b[39m\n\u001b[32m    370\u001b[39m \u001b[38;5;28;01mif\u001b[39;00m \u001b[33m\"\u001b[39m\u001b[33mCUDA_MODULE_LOADING\u001b[39m\u001b[33m\"\u001b[39m \u001b[38;5;129;01mnot\u001b[39;00m \u001b[38;5;129;01min\u001b[39;00m os.environ:\n\u001b[32m    371\u001b[39m     os.environ[\u001b[33m\"\u001b[39m\u001b[33mCUDA_MODULE_LOADING\u001b[39m\u001b[33m\"\u001b[39m] = \u001b[33m\"\u001b[39m\u001b[33mLAZY\u001b[39m\u001b[33m\"\u001b[39m\n\u001b[32m--> \u001b[39m\u001b[32m372\u001b[39m \u001b[43mtorch\u001b[49m\u001b[43m.\u001b[49m\u001b[43m_C\u001b[49m\u001b[43m.\u001b[49m\u001b[43m_cuda_init\u001b[49m\u001b[43m(\u001b[49m\u001b[43m)\u001b[49m\n\u001b[32m    373\u001b[39m \u001b[38;5;66;03m# Some of the queued calls may reentrantly call _lazy_init();\u001b[39;00m\n\u001b[32m    374\u001b[39m \u001b[38;5;66;03m# we need to just return without initializing in that case.\u001b[39;00m\n\u001b[32m    375\u001b[39m \u001b[38;5;66;03m# However, we must not let any *other* threads in!\u001b[39;00m\n\u001b[32m    376\u001b[39m _tls.is_initializing = \u001b[38;5;28;01mTrue\u001b[39;00m\n",
      "\u001b[31mRuntimeError\u001b[39m: Found no NVIDIA driver on your system. Please check that you have an NVIDIA GPU and installed a driver from http://www.nvidia.com/Download/index.aspx"
     ]
    }
   ],
   "source": [
    "high_spending_customer.to(\"cuda\")"
   ]
  },
  {
   "cell_type": "code",
   "execution_count": 35,
   "id": "fc50ce8f-49f1-46b4-b11b-b3afe222d385",
   "metadata": {},
   "outputs": [],
   "source": [
    "venue = torch.tensor([\n",
    "    [34,34,24,53,24],\n",
    "    [34,54,33,24,32]\n",
    "])"
   ]
  },
  {
   "cell_type": "code",
   "execution_count": 37,
   "id": "f6b1efad-f4e5-443c-839b-42ebcbe4f57e",
   "metadata": {},
   "outputs": [
    {
     "data": {
      "text/plain": [
       "tensor([[34, 34, 24, 53, 24],\n",
       "        [34, 54, 33, 24, 32]])"
      ]
     },
     "execution_count": 37,
     "metadata": {},
     "output_type": "execute_result"
    }
   ],
   "source": [
    "venue"
   ]
  },
  {
   "cell_type": "code",
   "execution_count": 41,
   "id": "a35523ba-1783-4c36-b488-929d2939542a",
   "metadata": {},
   "outputs": [
    {
     "data": {
      "text/plain": [
       "tensor([34, 34, 24, 53, 24, 34, 54, 33, 24, 32])"
      ]
     },
     "execution_count": 41,
     "metadata": {},
     "output_type": "execute_result"
    }
   ],
   "source": [
    "venue.view(-1)"
   ]
  },
  {
   "cell_type": "code",
   "execution_count": 43,
   "id": "7aff1777-0075-403d-a8ef-11cb4517a9c9",
   "metadata": {},
   "outputs": [
    {
     "data": {
      "text/plain": [
       "device(type='cpu')"
      ]
     },
     "execution_count": 43,
     "metadata": {},
     "output_type": "execute_result"
    }
   ],
   "source": [
    "venue.device"
   ]
  },
  {
   "cell_type": "code",
   "execution_count": 45,
   "id": "6d481a2c-63d4-4217-8ef2-acf3ca239f5d",
   "metadata": {},
   "outputs": [
    {
     "data": {
      "text/plain": [
       "tensor([[34, 34],\n",
       "        [24, 53],\n",
       "        [24, 34],\n",
       "        [54, 33],\n",
       "        [24, 32]])"
      ]
     },
     "execution_count": 45,
     "metadata": {},
     "output_type": "execute_result"
    }
   ],
   "source": [
    "venue.view(5,2)"
   ]
  },
  {
   "cell_type": "code",
   "execution_count": 49,
   "id": "919e6bbd-dc9f-4d7f-806b-16d404f0d131",
   "metadata": {},
   "outputs": [],
   "source": [
    "venue[1,4] = 333"
   ]
  },
  {
   "cell_type": "code",
   "execution_count": 51,
   "id": "0a483032-1979-4328-9d5f-5bbc54c71abe",
   "metadata": {},
   "outputs": [
    {
     "data": {
      "text/plain": [
       "tensor([[ 34,  34,  24,  53,  24],\n",
       "        [ 34,  54,  33,  24, 333]])"
      ]
     },
     "execution_count": 51,
     "metadata": {},
     "output_type": "execute_result"
    }
   ],
   "source": [
    "venue"
   ]
  },
  {
   "cell_type": "code",
   "execution_count": 53,
   "id": "b60e1c4e-81c3-444a-ad6b-8954d15cddee",
   "metadata": {},
   "outputs": [
    {
     "data": {
      "text/plain": [
       "tensor([[0.7480, 0.5526, 0.7066, 0.8029],\n",
       "        [0.2996, 0.2189, 0.6981, 0.8715],\n",
       "        [0.1204, 0.4883, 0.6096, 0.5505]])"
      ]
     },
     "execution_count": 53,
     "metadata": {},
     "output_type": "execute_result"
    }
   ],
   "source": [
    "torch.rand(3,4)"
   ]
  },
  {
   "cell_type": "code",
   "execution_count": 55,
   "id": "72f0a547-3bdc-42df-8857-33fe5803a86a",
   "metadata": {},
   "outputs": [
    {
     "data": {
      "text/plain": [
       "tensor([[0., 0., 0., 0.],\n",
       "        [0., 0., 0., 0.],\n",
       "        [0., 0., 0., 0.]])"
      ]
     },
     "execution_count": 55,
     "metadata": {},
     "output_type": "execute_result"
    }
   ],
   "source": [
    "torch.zeros(3,4)"
   ]
  },
  {
   "cell_type": "code",
   "execution_count": 59,
   "id": "6f5f5840-f9de-48e2-9c41-d3ccfe6d01b7",
   "metadata": {},
   "outputs": [
    {
     "name": "stdout",
     "output_type": "stream",
     "text": [
      "tensor(10., dtype=torch.float16, requires_grad=True)\n"
     ]
    }
   ],
   "source": [
    "material_cost = torch.tensor(10,requires_grad= True, dtype = torch.float16)\n",
    "print(material_cost)"
   ]
  },
  {
   "cell_type": "code",
   "execution_count": null,
   "id": "0c524e1f-b3da-4cb5-b706-494c46f95481",
   "metadata": {},
   "outputs": [],
   "source": []
  }
 ],
 "metadata": {
  "kernelspec": {
   "display_name": "Python 3 (ipykernel)",
   "language": "python",
   "name": "python3"
  },
  "language_info": {
   "codemirror_mode": {
    "name": "ipython",
    "version": 3
   },
   "file_extension": ".py",
   "mimetype": "text/x-python",
   "name": "python",
   "nbconvert_exporter": "python",
   "pygments_lexer": "ipython3",
   "version": "3.12.7"
  }
 },
 "nbformat": 4,
 "nbformat_minor": 5
}
