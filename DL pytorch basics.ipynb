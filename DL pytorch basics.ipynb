{
 "cells": [
  {
   "cell_type": "code",
   "execution_count": 3,
   "id": "d11340f2-fa71-45f4-8373-7cd7b9b4b5a4",
   "metadata": {},
   "outputs": [],
   "source": [
    "import torch\n"
   ]
  },
  {
   "cell_type": "code",
   "execution_count": 4,
   "id": "aff7383a-b2c5-4f4a-ab9a-91efb75838e6",
   "metadata": {},
   "outputs": [
    {
     "data": {
      "text/plain": [
       "False"
      ]
     },
     "execution_count": 4,
     "metadata": {},
     "output_type": "execute_result"
    }
   ],
   "source": [
    "torch.cuda.is_available()"
   ]
  },
  {
   "cell_type": "code",
   "execution_count": 5,
   "id": "b50429de-3a1d-443e-8da0-4bd687a00c83",
   "metadata": {},
   "outputs": [
    {
     "data": {
      "text/plain": [
       "tensor(9)"
      ]
     },
     "execution_count": 5,
     "metadata": {},
     "output_type": "execute_result"
    }
   ],
   "source": [
    "torch.tensor(9)"
   ]
  },
  {
   "cell_type": "code",
   "execution_count": 6,
   "id": "ea0af51f-1b5a-4bdd-bcf4-f776904d9076",
   "metadata": {},
   "outputs": [],
   "source": [
    "revenue = torch.tensor([34,34,24,53,24])"
   ]
  },
  {
   "cell_type": "code",
   "execution_count": 7,
   "id": "d7f834f0-6a84-499c-b69b-80fe6d746035",
   "metadata": {},
   "outputs": [
    {
     "data": {
      "text/plain": [
       "tensor(53)"
      ]
     },
     "execution_count": 7,
     "metadata": {},
     "output_type": "execute_result"
    }
   ],
   "source": [
    "revenue[3]"
   ]
  },
  {
   "cell_type": "code",
   "execution_count": 8,
   "id": "414a5fdf-02b4-4aac-8598-8338a4e0d9da",
   "metadata": {},
   "outputs": [
    {
     "data": {
      "text/plain": [
       "device(type='cpu')"
      ]
     },
     "execution_count": 8,
     "metadata": {},
     "output_type": "execute_result"
    }
   ],
   "source": [
    "if torch.cuda.is_available():\n",
    "    device = torch.device('cuda')\n",
    "else:\n",
    "    device = torch.device('cpu')\n",
    "device\n",
    "\n",
    "    "
   ]
  },
  {
   "cell_type": "code",
   "execution_count": 9,
   "id": "295b45a4-06a5-4881-83df-52b750ed2890",
   "metadata": {},
   "outputs": [
    {
     "data": {
      "text/plain": [
       "torch.Size([100000, 3])"
      ]
     },
     "execution_count": 9,
     "metadata": {},
     "output_type": "execute_result"
    }
   ],
   "source": [
    "customer_data = torch.rand(1_00_000,3,device= device)\n",
    "customer_data.shape"
   ]
  },
  {
   "cell_type": "code",
   "execution_count": 10,
   "id": "14e746f8-2353-4f89-8ba2-65fca1ea7219",
   "metadata": {},
   "outputs": [
    {
     "data": {
      "text/plain": [
       "tensor([[0.5078, 0.2105, 0.5081],\n",
       "        [0.1783, 0.9924, 0.9544],\n",
       "        [0.0955, 0.9772, 0.4803],\n",
       "        [0.5288, 0.1756, 0.6200],\n",
       "        [0.5006, 0.2376, 0.5779]])"
      ]
     },
     "execution_count": 10,
     "metadata": {},
     "output_type": "execute_result"
    }
   ],
   "source": [
    "customer_data[:5]"
   ]
  },
  {
   "cell_type": "code",
   "execution_count": 11,
   "id": "5f89952d-a068-412e-b8d2-9c82fc7ca0d1",
   "metadata": {},
   "outputs": [
    {
     "data": {
      "text/plain": [
       "tensor([0.2105, 0.9924, 0.9772,  ..., 0.5832, 0.4801, 0.7604])"
      ]
     },
     "execution_count": 11,
     "metadata": {},
     "output_type": "execute_result"
    }
   ],
   "source": [
    "customer_data[:,1]\n"
   ]
  },
  {
   "cell_type": "code",
   "execution_count": 12,
   "id": "251f0448-b7ed-4cce-9ffc-7502431a8ac5",
   "metadata": {},
   "outputs": [
    {
     "data": {
      "text/plain": [
       "tensor([[0.1783, 0.9924, 0.9544],\n",
       "        [0.0955, 0.9772, 0.4803],\n",
       "        [0.9064, 0.5247, 0.4786],\n",
       "        ...,\n",
       "        [0.3225, 0.7039, 0.6845],\n",
       "        [0.5319, 0.5832, 0.5175],\n",
       "        [0.6040, 0.7604, 0.7463]])"
      ]
     },
     "execution_count": 12,
     "metadata": {},
     "output_type": "execute_result"
    }
   ],
   "source": [
    "high_spending_customer= customer_data[customer_data[:,1]>0.5]\n",
    "high_spending_customer"
   ]
  },
  {
   "cell_type": "code",
   "execution_count": 13,
   "id": "f6571b34-15fa-499d-a891-062fdc95bc55",
   "metadata": {},
   "outputs": [
    {
     "data": {
      "text/plain": [
       "torch.Size([49876, 3])"
      ]
     },
     "execution_count": 13,
     "metadata": {},
     "output_type": "execute_result"
    }
   ],
   "source": [
    "high_spending_customer.shape"
   ]
  },
  {
   "cell_type": "code",
   "execution_count": 14,
   "id": "e3096259-0dda-4885-b514-cd47de87e838",
   "metadata": {},
   "outputs": [
    {
     "ename": "AssertionError",
     "evalue": "Torch not compiled with CUDA enabled",
     "output_type": "error",
     "traceback": [
      "\u001b[31m---------------------------------------------------------------------------\u001b[39m",
      "\u001b[31mAssertionError\u001b[39m                            Traceback (most recent call last)",
      "\u001b[36mCell\u001b[39m\u001b[36m \u001b[39m\u001b[32mIn[14]\u001b[39m\u001b[32m, line 1\u001b[39m\n\u001b[32m----> \u001b[39m\u001b[32m1\u001b[39m \u001b[43mhigh_spending_customer\u001b[49m\u001b[43m.\u001b[49m\u001b[43mto\u001b[49m\u001b[43m(\u001b[49m\u001b[33;43m\"\u001b[39;49m\u001b[33;43mcuda\u001b[39;49m\u001b[33;43m\"\u001b[39;49m\u001b[43m)\u001b[49m\n",
      "\u001b[36mFile \u001b[39m\u001b[32m~\\AppData\\Roaming\\Python\\Python312\\site-packages\\torch\\cuda\\__init__.py:403\u001b[39m, in \u001b[36m_lazy_init\u001b[39m\u001b[34m()\u001b[39m\n\u001b[32m    398\u001b[39m     \u001b[38;5;28;01mraise\u001b[39;00m \u001b[38;5;167;01mRuntimeError\u001b[39;00m(\n\u001b[32m    399\u001b[39m         \u001b[33m\"\u001b[39m\u001b[33mCannot re-initialize CUDA in forked subprocess. To use CUDA with \u001b[39m\u001b[33m\"\u001b[39m\n\u001b[32m    400\u001b[39m         \u001b[33m\"\u001b[39m\u001b[33mmultiprocessing, you must use the \u001b[39m\u001b[33m'\u001b[39m\u001b[33mspawn\u001b[39m\u001b[33m'\u001b[39m\u001b[33m start method\u001b[39m\u001b[33m\"\u001b[39m\n\u001b[32m    401\u001b[39m     )\n\u001b[32m    402\u001b[39m \u001b[38;5;28;01mif\u001b[39;00m \u001b[38;5;129;01mnot\u001b[39;00m \u001b[38;5;28mhasattr\u001b[39m(torch._C, \u001b[33m\"\u001b[39m\u001b[33m_cuda_getDeviceCount\u001b[39m\u001b[33m\"\u001b[39m):\n\u001b[32m--> \u001b[39m\u001b[32m403\u001b[39m     \u001b[38;5;28;01mraise\u001b[39;00m \u001b[38;5;167;01mAssertionError\u001b[39;00m(\u001b[33m\"\u001b[39m\u001b[33mTorch not compiled with CUDA enabled\u001b[39m\u001b[33m\"\u001b[39m)\n\u001b[32m    404\u001b[39m \u001b[38;5;28;01mif\u001b[39;00m _cudart \u001b[38;5;129;01mis\u001b[39;00m \u001b[38;5;28;01mNone\u001b[39;00m:\n\u001b[32m    405\u001b[39m     \u001b[38;5;28;01mraise\u001b[39;00m \u001b[38;5;167;01mAssertionError\u001b[39;00m(\n\u001b[32m    406\u001b[39m         \u001b[33m\"\u001b[39m\u001b[33mlibcudart functions unavailable. It looks like you have a broken build?\u001b[39m\u001b[33m\"\u001b[39m\n\u001b[32m    407\u001b[39m     )\n",
      "\u001b[31mAssertionError\u001b[39m: Torch not compiled with CUDA enabled"
     ]
    }
   ],
   "source": [
    "high_spending_customer.to(\"cuda\")"
   ]
  },
  {
   "cell_type": "code",
   "execution_count": null,
   "id": "fc50ce8f-49f1-46b4-b11b-b3afe222d385",
   "metadata": {},
   "outputs": [],
   "source": [
    "venue = torch.tensor([\n",
    "    [34,34,24,53,24],\n",
    "    [34,54,33,24,32]\n",
    "])"
   ]
  },
  {
   "cell_type": "code",
   "execution_count": null,
   "id": "f6b1efad-f4e5-443c-839b-42ebcbe4f57e",
   "metadata": {},
   "outputs": [],
   "source": [
    "venue"
   ]
  },
  {
   "cell_type": "code",
   "execution_count": null,
   "id": "a35523ba-1783-4c36-b488-929d2939542a",
   "metadata": {},
   "outputs": [],
   "source": [
    "venue.view(-1)"
   ]
  },
  {
   "cell_type": "code",
   "execution_count": null,
   "id": "7aff1777-0075-403d-a8ef-11cb4517a9c9",
   "metadata": {},
   "outputs": [],
   "source": [
    "venue.device"
   ]
  },
  {
   "cell_type": "code",
   "execution_count": null,
   "id": "6d481a2c-63d4-4217-8ef2-acf3ca239f5d",
   "metadata": {},
   "outputs": [],
   "source": [
    "venue.view(5,2)"
   ]
  },
  {
   "cell_type": "code",
   "execution_count": null,
   "id": "919e6bbd-dc9f-4d7f-806b-16d404f0d131",
   "metadata": {},
   "outputs": [],
   "source": [
    "venue[1,4] = 333"
   ]
  },
  {
   "cell_type": "code",
   "execution_count": null,
   "id": "0a483032-1979-4328-9d5f-5bbc54c71abe",
   "metadata": {},
   "outputs": [],
   "source": [
    "venue"
   ]
  },
  {
   "cell_type": "code",
   "execution_count": null,
   "id": "b60e1c4e-81c3-444a-ad6b-8954d15cddee",
   "metadata": {},
   "outputs": [],
   "source": [
    "torch.rand(3,4)"
   ]
  },
  {
   "cell_type": "code",
   "execution_count": null,
   "id": "72f0a547-3bdc-42df-8857-33fe5803a86a",
   "metadata": {},
   "outputs": [],
   "source": [
    "torch.zeros(3,4)"
   ]
  },
  {
   "cell_type": "code",
   "execution_count": null,
   "id": "6f5f5840-f9de-48e2-9c41-d3ccfe6d01b7",
   "metadata": {},
   "outputs": [],
   "source": [
    "material_cost = torch.tensor(10,requires_grad= True, dtype = torch.float16)\n",
    "print(material_cost)"
   ]
  },
  {
   "cell_type": "code",
   "execution_count": 29,
   "id": "d28e580d-7ec5-478e-b93f-8c7e88e23864",
   "metadata": {},
   "outputs": [
    {
     "name": "stdout",
     "output_type": "stream",
     "text": [
      "Iteration 1, Gradient in x.grad: 3.0\n",
      "Iteration 2, Gradient in x.grad: 6.0\n"
     ]
    }
   ],
   "source": [
    "import torch\n",
    "\n",
    "x = torch.tensor(2.0, requires_grad=True)\n",
    "\n",
    "for i in range(2):\n",
    "    y = x * 3   # y = 3x\n",
    "    y.backward()\n",
    "    print(f\"Iteration {i+1}, Gradient in x.grad: {x.grad}\")\n"
   ]
  },
  {
   "cell_type": "code",
   "execution_count": 31,
   "id": "be199988-3e2e-410b-827f-71eeeebb6ac9",
   "metadata": {},
   "outputs": [
    {
     "name": "stdout",
     "output_type": "stream",
     "text": [
      "Iteration 1, Gradient in x.grad: 3.0\n",
      "Iteration 2, Gradient in x.grad: 3.0\n"
     ]
    }
   ],
   "source": [
    "import torch\n",
    "\n",
    "x = torch.tensor(2.0, requires_grad=True)\n",
    "\n",
    "for i in range(2):\n",
    "    y = x * 3   # y = 3x\n",
    "    y.backward()\n",
    "    print(f\"Iteration {i+1}, Gradient in x.grad: {x.grad}\")\n",
    "    x.grad.zero_()   # Reset gradient after use\n"
   ]
  },
  {
   "cell_type": "code",
   "execution_count": null,
   "id": "ef29878a-56e1-4569-a497-4274c06dcbd4",
   "metadata": {},
   "outputs": [],
   "source": []
  }
 ],
 "metadata": {
  "kernelspec": {
   "display_name": "Python 3 (ipykernel)",
   "language": "python",
   "name": "python3"
  },
  "language_info": {
   "codemirror_mode": {
    "name": "ipython",
    "version": 3
   },
   "file_extension": ".py",
   "mimetype": "text/x-python",
   "name": "python",
   "nbconvert_exporter": "python",
   "pygments_lexer": "ipython3",
   "version": "3.12.7"
  }
 },
 "nbformat": 4,
 "nbformat_minor": 5
}
