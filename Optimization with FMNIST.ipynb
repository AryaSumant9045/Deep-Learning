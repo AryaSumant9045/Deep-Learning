{
 "cells": [
  {
   "cell_type": "code",
   "execution_count": 1,
   "id": "cb303ad9-4867-4ae5-8d48-eddedf4ad8ae",
   "metadata": {},
   "outputs": [],
   "source": [
    "import torch\n",
    "from torch import nn, optim\n",
    "from torchvision import datasets\n",
    "from torchvision.transforms import ToTensor\n",
    "from torch.utils.data import DataLoader\n",
    "from matplotlib import pyplot as plt"
   ]
  },
  {
   "cell_type": "code",
   "execution_count": 3,
   "id": "25cc0fec-c184-4cf8-ba18-7b4cc16adccb",
   "metadata": {},
   "outputs": [],
   "source": [
    "# Load Data\n",
    "training_data = datasets.FashionMNIST(\n",
    "    root=\"data\",\n",
    "    train=True,\n",
    "    download=True,\n",
    "    transform=ToTensor()\n",
    ")\n",
    "\n",
    "test_data = datasets.FashionMNIST(\n",
    "    root=\"data\",\n",
    "    train=False,\n",
    "    download=True,\n",
    "    transform=ToTensor()\n",
    ")"
   ]
  },
  {
   "cell_type": "code",
   "execution_count": 7,
   "id": "c322f1fb-5915-4397-a99a-0536865aa0f1",
   "metadata": {},
   "outputs": [
    {
     "name": "stdout",
     "output_type": "stream",
     "text": [
      "torch.Size([64, 1, 28, 28]) torch.Size([64])\n"
     ]
    }
   ],
   "source": [
    "batch_size = 64\n",
    "\n",
    "train_loader = DataLoader(training_data, batch_size = batch_size)\n",
    "test_loader = DataLoader(test_data, batch_size = batch_size)\n",
    "\n",
    "for images, labels in train_loader:\n",
    "    print(images.shape, labels.shape)\n",
    "    break"
   ]
  },
  {
   "cell_type": "code",
   "execution_count": 15,
   "id": "78a64e89-7b7c-4cd3-acb7-c12ed34cbcb5",
   "metadata": {},
   "outputs": [
    {
     "data": {
      "text/plain": [
       "tensor(9)"
      ]
     },
     "execution_count": 15,
     "metadata": {},
     "output_type": "execute_result"
    }
   ],
   "source": [
    "labels[0]"
   ]
  },
  {
   "cell_type": "code",
   "execution_count": 11,
   "id": "47e6f907-f637-4ea3-b853-361fd88d571e",
   "metadata": {},
   "outputs": [
    {
     "data": {
      "text/plain": [
       "'Pullover'"
      ]
     },
     "execution_count": 11,
     "metadata": {},
     "output_type": "execute_result"
    }
   ],
   "source": [
    "classes = [\n",
    "    \"T-shirt/top\",\n",
    "    \"Trouser\",\n",
    "    \"Pullover\",\n",
    "    \"Dress\",\n",
    "    \"Coat\",\n",
    "    \"Sandal\",\n",
    "    \"Shirt\",\n",
    "    \"Sneaker\",\n",
    "    \"Bag\",\n",
    "    \"Ankle boot\",\n",
    "]\n",
    "\n",
    "classes[labels[7].item()]"
   ]
  },
  {
   "cell_type": "code",
   "execution_count": 17,
   "id": "c09dd61b-2257-4b01-ad2b-6ab8f42ef21f",
   "metadata": {},
   "outputs": [
    {
     "data": {
      "image/png": "[encoded data removed]",
      "text/plain": [
       "<Figure size 300x300 with 1 Axes>"
      ]
     },
     "metadata": {},
     "output_type": "display_data"
    }
   ],
   "source": [
    "plt.figure(figsize=(3,3))\n",
    "plt.imshow(images[3].squeeze(), cmap=\"gray\")\n",
    "plt.show()"
   ]
  },
  {
   "cell_type": "code",
   "execution_count": 19,
   "id": "bc29aa60-e5ed-441b-8949-7ff2b02ccac3",
   "metadata": {},
   "outputs": [
    {
     "data": {
      "text/plain": [
       "'cpu'"
      ]
     },
     "execution_count": 19,
     "metadata": {},
     "output_type": "execute_result"
    }
   ],
   "source": [
    "# bulid Neural Netowork\n",
    "device = (\"cuda\" if torch.cuda.is_available()\n",
    "else \"mps\" if torch.backends.mps.is_available()\n",
    "else \"cpu\")\n",
    "device"
   ]
  },
  {
   "cell_type": "code",
   "execution_count": 25,
   "id": "301e594b-b92f-45ad-a037-ca8ec1e64c94",
   "metadata": {},
   "outputs": [],
   "source": [
    "class ClothsClassifier(nn.Module):\n",
    "    def __init__(self):\n",
    "        super().__init__()\n",
    "        self.network = nn.Sequential(\n",
    "        nn.Flatten(),\n",
    "        nn.Linear(28*28, 128),\n",
    "        nn.ReLU(),\n",
    "        nn.Linear(128, 64),\n",
    "        nn.ReLU(),\n",
    "        nn.Linear(64, 10)\n",
    "        )\n",
    "        \n",
    "    def forward(self, x):\n",
    "        return self.network(x)"
   ]
  },
  {
   "cell_type": "code",
   "execution_count": 27,
   "id": "9e56f850-d991-4cab-a488-0f392ca5af35",
   "metadata": {},
   "outputs": [],
   "source": [
    "model = ClothsClassifier().to(device)\n",
    "loss_fn = nn.CrossEntropyLoss()\n",
    "# optimizer = optim.SGD(model.parameters(), lr=0.001)\n",
    "# optimizer = optim.SGD(model.parameters(), lr=0.001, momentum=0.9)\n",
    "optimizer = optim.Adam(model.parameters(), lr=0.001)"
   ]
  },
  {
   "cell_type": "code",
   "execution_count": 29,
   "id": "230b4081-48fb-4c0a-af41-3fce31100f5b",
   "metadata": {},
   "outputs": [
    {
     "name": "stdout",
     "output_type": "stream",
     "text": [
      "Batch: 0, Loss: 2.2973263263702393\n",
      "Batch: 100, Loss: 0.8250855207443237\n",
      "Batch: 200, Loss: 0.42977556586265564\n",
      "Batch: 300, Loss: 0.5938869118690491\n",
      "Batch: 400, Loss: 0.5210124254226685\n",
      "Batch: 500, Loss: 0.46275460720062256\n",
      "Batch: 600, Loss: 0.46321210265159607\n",
      "Batch: 700, Loss: 0.6575552225112915\n",
      "Batch: 800, Loss: 0.5758390426635742\n",
      "Batch: 900, Loss: 0.521683931350708\n",
      "Batch: 0, Loss: 0.28614744544029236\n",
      "Batch: 100, Loss: 0.422220915555954\n",
      "Batch: 200, Loss: 0.3196321129798889\n",
      "Batch: 300, Loss: 0.4850274324417114\n",
      "Batch: 400, Loss: 0.3715336322784424\n",
      "Batch: 500, Loss: 0.3627432882785797\n",
      "Batch: 600, Loss: 0.3723272979259491\n",
      "Batch: 700, Loss: 0.5407589077949524\n",
      "Batch: 800, Loss: 0.49283233284950256\n",
      "Batch: 900, Loss: 0.53221195936203\n"
     ]
    }
   ],
   "source": [
    "#training\n",
    "epochs = 2\n",
    "model.train()\n",
    "\n",
    "for epoch in range(epochs):\n",
    "    for batch, (images, labels) in enumerate(train_loader):\n",
    "        images = images.to(device)\n",
    "        labels = labels.to(device)\n",
    "\n",
    "        #forword pass\n",
    "        pred = model(images)\n",
    "        loss = loss_fn(pred, labels)\n",
    "\n",
    "        #backword pass\n",
    "        loss.backward()\n",
    "\n",
    "        #weight update\n",
    "        optimizer.step()\n",
    "        optimizer.zero_grad()\n",
    "\n",
    "        if batch % 100 == 0:\n",
    "            print(f\"Batch: {batch}, Loss: {loss.item()}\")\n",
    "\n",
    "# SGD Without momentum (2.29 => 2.03)\n",
    "# SGD with momentum (2.29 => 0.65)\n",
    "# ADAM (2.29 => 0.53)"
   ]
  },
  {
   "cell_type": "code",
   "execution_count": 31,
   "id": "74460ece-f7de-4a7f-bdd7-402abcb1ae0a",
   "metadata": {},
   "outputs": [],
   "source": [
    "# Testing the model\n",
    "model.eval()  # Switch to evaluation mode\n",
    "\n",
    "all_predicted = []\n",
    "all_labels = []\n",
    "\n",
    "with torch.no_grad():\n",
    "    for images, labels in test_loader:\n",
    "        images = images.to(device)\n",
    "        labels = labels.to(device)\n",
    "        \n",
    "        outputs = model(images)\n",
    "        \n",
    "        _, predicted = torch.max(outputs.data, 1)\n",
    "        \n",
    "        # Append labels and predictions to lists\n",
    "        all_labels.extend(labels.cpu().numpy())    \n",
    "        all_predicted.extend(predicted.cpu().numpy()) "
   ]
  },
  {
   "cell_type": "code",
   "execution_count": 33,
   "id": "bb34f9c9-2520-409c-9061-06904659f2f7",
   "metadata": {},
   "outputs": [
    {
     "name": "stdout",
     "output_type": "stream",
     "text": [
      "              precision    recall  f1-score   support\n",
      "\n",
      "           0       0.81      0.83      0.82      1000\n",
      "           1       0.96      0.97      0.97      1000\n",
      "           2       0.84      0.63      0.72      1000\n",
      "           3       0.86      0.85      0.86      1000\n",
      "           4       0.62      0.90      0.74      1000\n",
      "           5       0.98      0.92      0.95      1000\n",
      "           6       0.72      0.53      0.61      1000\n",
      "           7       0.88      0.98      0.93      1000\n",
      "           8       0.94      0.97      0.96      1000\n",
      "           9       0.97      0.92      0.94      1000\n",
      "\n",
      "    accuracy                           0.85     10000\n",
      "   macro avg       0.86      0.85      0.85     10000\n",
      "weighted avg       0.86      0.85      0.85     10000\n",
      "\n"
     ]
    }
   ],
   "source": [
    "from sklearn.metrics import classification_report\n",
    "\n",
    "report = classification_report(all_labels, all_predicted)\n",
    "print(report)"
   ]
  },
  {
   "cell_type": "code",
   "execution_count": null,
   "id": "6eef73b6-4b3c-4c96-b3bc-8c1ef30e04f4",
   "metadata": {},
   "outputs": [],
   "source": []
  }
 ],
 "metadata": {
  "kernelspec": {
   "display_name": "Python [conda env:myenv]",
   "language": "python",
   "name": "conda-env-myenv-py"
  },
  "language_info": {
   "codemirror_mode": {
    "name": "ipython",
    "version": 3
   },
   "file_extension": ".py",
   "mimetype": "text/x-python",
   "name": "python",
   "nbconvert_exporter": "python",
   "pygments_lexer": "ipython3",
   "version": "3.11.13"
  }
 },
 "nbformat": 4,
 "nbformat_minor": 5
}
