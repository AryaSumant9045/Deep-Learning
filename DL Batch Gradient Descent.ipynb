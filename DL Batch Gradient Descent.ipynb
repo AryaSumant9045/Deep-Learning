{
 "cells": [
  {
   "cell_type": "code",
   "execution_count": 3,
   "id": "e7f6df71-ab72-49c7-9425-7248e480372e",
   "metadata": {},
   "outputs": [
    {
     "data": {
      "text/html": [
       "<div>\n",
       "<style scoped>\n",
       "    .dataframe tbody tr th:only-of-type {\n",
       "        vertical-align: middle;\n",
       "    }\n",
       "\n",
       "    .dataframe tbody tr th {\n",
       "        vertical-align: top;\n",
       "    }\n",
       "\n",
       "    .dataframe thead th {\n",
       "        text-align: right;\n",
       "    }\n",
       "</style>\n",
       "<table border=\"1\" class=\"dataframe\">\n",
       "  <thead>\n",
       "    <tr style=\"text-align: right;\">\n",
       "      <th></th>\n",
       "      <th>employee_id</th>\n",
       "      <th>performance</th>\n",
       "      <th>years_of_experience</th>\n",
       "      <th>projects_completed</th>\n",
       "      <th>bonus</th>\n",
       "    </tr>\n",
       "  </thead>\n",
       "  <tbody>\n",
       "    <tr>\n",
       "      <th>0</th>\n",
       "      <td>EMP_001</td>\n",
       "      <td>7</td>\n",
       "      <td>2</td>\n",
       "      <td>4</td>\n",
       "      <td>124</td>\n",
       "    </tr>\n",
       "    <tr>\n",
       "      <th>1</th>\n",
       "      <td>EMP_002</td>\n",
       "      <td>4</td>\n",
       "      <td>1</td>\n",
       "      <td>4</td>\n",
       "      <td>82</td>\n",
       "    </tr>\n",
       "    <tr>\n",
       "      <th>2</th>\n",
       "      <td>EMP_003</td>\n",
       "      <td>8</td>\n",
       "      <td>7</td>\n",
       "      <td>10</td>\n",
       "      <td>178</td>\n",
       "    </tr>\n",
       "    <tr>\n",
       "      <th>3</th>\n",
       "      <td>EMP_004</td>\n",
       "      <td>5</td>\n",
       "      <td>7</td>\n",
       "      <td>8</td>\n",
       "      <td>138</td>\n",
       "    </tr>\n",
       "    <tr>\n",
       "      <th>4</th>\n",
       "      <td>EMP_005</td>\n",
       "      <td>7</td>\n",
       "      <td>8</td>\n",
       "      <td>9</td>\n",
       "      <td>170</td>\n",
       "    </tr>\n",
       "  </tbody>\n",
       "</table>\n",
       "</div>"
      ],
      "text/plain": [
       "  employee_id  performance  years_of_experience  projects_completed  bonus\n",
       "0     EMP_001            7                    2                   4    124\n",
       "1     EMP_002            4                    1                   4     82\n",
       "2     EMP_003            8                    7                  10    178\n",
       "3     EMP_004            5                    7                   8    138\n",
       "4     EMP_005            7                    8                   9    170"
      ]
     },
     "execution_count": 3,
     "metadata": {},
     "output_type": "execute_result"
    }
   ],
   "source": [
    "import pandas as pd\n",
    "from matplotlib import pyplot as plt\n",
    "\n",
    "# Step 1: Read the dataset from the CSV file\n",
    "df = pd.read_csv('bonus_dataset.csv')\n",
    "df.head()"
   ]
  },
  {
   "cell_type": "code",
   "execution_count": 5,
   "id": "54792dca-bafc-40ff-8bc0-bcb6674d1b32",
   "metadata": {},
   "outputs": [
    {
     "data": {
      "text/plain": [
       "(100, 5)"
      ]
     },
     "execution_count": 5,
     "metadata": {},
     "output_type": "execute_result"
    }
   ],
   "source": [
    "df.shape"
   ]
  },
  {
   "cell_type": "code",
   "execution_count": 7,
   "id": "ad96dae3-c3aa-4140-907e-1e684efd189b",
   "metadata": {},
   "outputs": [],
   "source": [
    "import torch\n",
    "\n",
    "# Extract features and target from the DataFrame\n",
    "performance = torch.tensor(df['performance'].values, dtype=torch.float32)\n",
    "years_of_experience = torch.tensor(df['years_of_experience'].values, dtype=torch.float32)\n",
    "projects_completed = torch.tensor(df['projects_completed'].values, dtype=torch.float32)\n",
    "bonus = torch.tensor(df['bonus'].values, dtype=torch.float32)"
   ]
  },
  {
   "cell_type": "code",
   "execution_count": 11,
   "id": "e1b413ae-be5d-4466-a14c-f77d5f75a8e0",
   "metadata": {},
   "outputs": [
    {
     "name": "stdout",
     "output_type": "stream",
     "text": [
      "Epoch [100/5000], Loss: 17.9286\n",
      "Epoch [200/5000], Loss: 15.6470\n",
      "Epoch [300/5000], Loss: 13.6558\n",
      "Epoch [400/5000], Loss: 11.9180\n",
      "Epoch [500/5000], Loss: 10.4014\n",
      "Epoch [600/5000], Loss: 9.0777\n",
      "Epoch [700/5000], Loss: 7.9225\n",
      "Epoch [800/5000], Loss: 6.9144\n",
      "Epoch [900/5000], Loss: 6.0345\n",
      "Epoch [1000/5000], Loss: 5.2665\n",
      "Epoch [1100/5000], Loss: 4.5963\n",
      "Epoch [1200/5000], Loss: 4.0114\n",
      "Epoch [1300/5000], Loss: 3.5010\n",
      "Epoch [1400/5000], Loss: 3.0554\n",
      "Epoch [1500/5000], Loss: 2.6666\n",
      "Epoch [1600/5000], Loss: 2.3273\n",
      "Epoch [1700/5000], Loss: 2.0311\n",
      "Epoch [1800/5000], Loss: 1.7726\n",
      "Epoch [1900/5000], Loss: 1.5471\n",
      "Epoch [2000/5000], Loss: 1.3502\n",
      "Epoch [2100/5000], Loss: 1.1784\n",
      "Epoch [2200/5000], Loss: 1.0284\n",
      "Epoch [2300/5000], Loss: 0.8975\n",
      "Epoch [2400/5000], Loss: 0.7833\n",
      "Epoch [2500/5000], Loss: 0.6836\n",
      "Epoch [2600/5000], Loss: 0.5967\n",
      "Epoch [2700/5000], Loss: 0.5207\n",
      "Epoch [2800/5000], Loss: 0.4545\n",
      "Epoch [2900/5000], Loss: 0.3966\n",
      "Epoch [3000/5000], Loss: 0.3462\n",
      "Epoch [3100/5000], Loss: 0.3021\n",
      "Epoch [3200/5000], Loss: 0.2637\n",
      "Epoch [3300/5000], Loss: 0.2301\n",
      "Epoch [3400/5000], Loss: 0.2008\n",
      "Epoch [3500/5000], Loss: 0.1753\n",
      "Epoch [3600/5000], Loss: 0.1530\n",
      "Epoch [3700/5000], Loss: 0.1335\n",
      "Epoch [3800/5000], Loss: 0.1165\n",
      "Epoch [3900/5000], Loss: 0.1017\n",
      "Epoch [4000/5000], Loss: 0.0887\n",
      "Epoch [4100/5000], Loss: 0.0775\n",
      "Epoch [4200/5000], Loss: 0.0676\n",
      "Epoch [4300/5000], Loss: 0.0590\n",
      "Epoch [4400/5000], Loss: 0.0515\n",
      "Epoch [4500/5000], Loss: 0.0449\n",
      "Epoch [4600/5000], Loss: 0.0392\n",
      "Epoch [4700/5000], Loss: 0.0342\n",
      "Epoch [4800/5000], Loss: 0.0299\n",
      "Epoch [4900/5000], Loss: 0.0261\n",
      "Epoch [5000/5000], Loss: 0.0228\n"
     ]
    }
   ],
   "source": [
    "#Batch Gradient Descent\n",
    "w1 = torch.rand(1, requires_grad=True)\n",
    "w2 = torch.rand(1, requires_grad=True)\n",
    "w3 = torch.rand(1, requires_grad=True)\n",
    "bias = torch.rand(1, requires_grad=True)\n",
    "\n",
    "# Learning rate and number of iterations\n",
    "learning_rate = 0.006\n",
    "epochs = 5000\n",
    "\n",
    "# Step 3: Training loop for gradient descent\n",
    "for epoch in range(epochs):\n",
    "    # Compute the predicted bonus using the current weights and bias\n",
    "    predicted_bonus = w1 * performance + w2 * years_of_experience + w3 * projects_completed + bias\n",
    "    \n",
    "    # Compute the Mean Squared Error (MSE) loss\n",
    "    loss = ((predicted_bonus - bonus) ** 2).mean()\n",
    "    \n",
    "    # Perform backpropagation to compute gradients of the loss with respect to w1, w2, w3, and bias\n",
    "    loss.backward()\n",
    "    \n",
    "    # Update the weights and bias using the computed gradients\n",
    "    with torch.no_grad():\n",
    "        w1 -= learning_rate * w1.grad\n",
    "        w2 -= learning_rate * w2.grad\n",
    "        w3 -= learning_rate * w3.grad\n",
    "        bias -= learning_rate * bias.grad\n",
    "\n",
    "    # Zero the gradients after updating\n",
    "    w1.grad.zero_()\n",
    "    w2.grad.zero_()\n",
    "    w3.grad.zero_()\n",
    "    bias.grad.zero_()\n",
    "\n",
    "    # Print the loss at regular intervals\n",
    "    if (epoch + 1) % 100 == 0:\n",
    "        print(f\"Epoch [{epoch + 1}/{epochs}], Loss: {loss.item():.4f}\")"
   ]
  },
  {
   "cell_type": "code",
   "execution_count": 13,
   "id": "c00377b8-14a7-4ba3-bd39-b65891523e81",
   "metadata": {},
   "outputs": [
    {
     "name": "stdout",
     "output_type": "stream",
     "text": [
      "\n",
      "Learned weights and bias:\n",
      "w1: 12.03, w2: 5.91, w3: 2.13, bias: 19.39\n"
     ]
    }
   ],
   "source": [
    "# Step 4: Print the learned weights and bias\n",
    "print(f\"\\nLearned weights and bias:\")\n",
    "print(f\"w1: {w1.item():.2f}, w2: {w2.item():.2f}, w3: {w3.item():.2f}, bias: {bias.item():.2f}\")"
   ]
  },
  {
   "cell_type": "code",
   "execution_count": 15,
   "id": "9ba351cf-9934-453b-a0bf-86029f31e817",
   "metadata": {},
   "outputs": [
    {
     "data": {
      "text/plain": [
       "tensor([142.0813], grad_fn=<AddBackward0>)"
      ]
     },
     "execution_count": 15,
     "metadata": {},
     "output_type": "execute_result"
    }
   ],
   "source": [
    "# predicted_bonus = w1 * performance + w2 * years_of_experience + w3 * projects_completed + bias\n",
    "predicted_bonus = w1 * 7 + w2 * 4 + w3 * 7 + bias\n",
    "predicted_bonus"
   ]
  },
  {
   "cell_type": "code",
   "execution_count": null,
   "id": "6dcfc55f-36ee-446a-827e-2742e4543abe",
   "metadata": {},
   "outputs": [],
   "source": []
  }
 ],
 "metadata": {
  "kernelspec": {
   "display_name": "Python 3 (ipykernel)",
   "language": "python",
   "name": "python3"
  },
  "language_info": {
   "codemirror_mode": {
    "name": "ipython",
    "version": 3
   },
   "file_extension": ".py",
   "mimetype": "text/x-python",
   "name": "python",
   "nbconvert_exporter": "python",
   "pygments_lexer": "ipython3",
   "version": "3.12.7"
  }
 },
 "nbformat": 4,
 "nbformat_minor": 5
}
